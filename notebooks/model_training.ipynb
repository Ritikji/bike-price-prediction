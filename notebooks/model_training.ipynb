{
 "cells": [
  {
   "cell_type": "code",
   "execution_count": 2,
   "metadata": {},
   "outputs": [],
   "source": [
    "import pandas as pd\n",
    "import numpy as np"
   ]
  },
  {
   "cell_type": "code",
   "execution_count": 3,
   "metadata": {},
   "outputs": [],
   "source": [
    "data=pd.read_csv(\"data/Used_Bikes.csv\")"
   ]
  },
  {
   "cell_type": "code",
   "execution_count": 5,
   "metadata": {},
   "outputs": [
    {
     "data": {
      "text/html": [
       "<div>\n",
       "<style scoped>\n",
       "    .dataframe tbody tr th:only-of-type {\n",
       "        vertical-align: middle;\n",
       "    }\n",
       "\n",
       "    .dataframe tbody tr th {\n",
       "        vertical-align: top;\n",
       "    }\n",
       "\n",
       "    .dataframe thead th {\n",
       "        text-align: right;\n",
       "    }\n",
       "</style>\n",
       "<table border=\"1\" class=\"dataframe\">\n",
       "  <thead>\n",
       "    <tr style=\"text-align: right;\">\n",
       "      <th></th>\n",
       "      <th>bike_name</th>\n",
       "      <th>price</th>\n",
       "      <th>city</th>\n",
       "      <th>kms_driven</th>\n",
       "      <th>owner</th>\n",
       "      <th>age</th>\n",
       "      <th>power</th>\n",
       "      <th>brand</th>\n",
       "    </tr>\n",
       "  </thead>\n",
       "  <tbody>\n",
       "    <tr>\n",
       "      <th>0</th>\n",
       "      <td>TVS Star City Plus Dual Tone 110cc</td>\n",
       "      <td>35000.0</td>\n",
       "      <td>Ahmedabad</td>\n",
       "      <td>17654.0</td>\n",
       "      <td>First Owner</td>\n",
       "      <td>3.0</td>\n",
       "      <td>110.0</td>\n",
       "      <td>TVS</td>\n",
       "    </tr>\n",
       "    <tr>\n",
       "      <th>1</th>\n",
       "      <td>Royal Enfield Classic 350cc</td>\n",
       "      <td>119900.0</td>\n",
       "      <td>Delhi</td>\n",
       "      <td>11000.0</td>\n",
       "      <td>First Owner</td>\n",
       "      <td>4.0</td>\n",
       "      <td>350.0</td>\n",
       "      <td>Royal Enfield</td>\n",
       "    </tr>\n",
       "    <tr>\n",
       "      <th>2</th>\n",
       "      <td>Triumph Daytona 675R</td>\n",
       "      <td>600000.0</td>\n",
       "      <td>Delhi</td>\n",
       "      <td>110.0</td>\n",
       "      <td>First Owner</td>\n",
       "      <td>8.0</td>\n",
       "      <td>675.0</td>\n",
       "      <td>Triumph</td>\n",
       "    </tr>\n",
       "    <tr>\n",
       "      <th>3</th>\n",
       "      <td>TVS Apache RTR 180cc</td>\n",
       "      <td>65000.0</td>\n",
       "      <td>Bangalore</td>\n",
       "      <td>16329.0</td>\n",
       "      <td>First Owner</td>\n",
       "      <td>4.0</td>\n",
       "      <td>180.0</td>\n",
       "      <td>TVS</td>\n",
       "    </tr>\n",
       "    <tr>\n",
       "      <th>4</th>\n",
       "      <td>Yamaha FZ S V 2.0 150cc-Ltd. Edition</td>\n",
       "      <td>80000.0</td>\n",
       "      <td>Bangalore</td>\n",
       "      <td>10000.0</td>\n",
       "      <td>First Owner</td>\n",
       "      <td>3.0</td>\n",
       "      <td>150.0</td>\n",
       "      <td>Yamaha</td>\n",
       "    </tr>\n",
       "  </tbody>\n",
       "</table>\n",
       "</div>"
      ],
      "text/plain": [
       "                              bike_name     price       city  kms_driven  \\\n",
       "0    TVS Star City Plus Dual Tone 110cc   35000.0  Ahmedabad     17654.0   \n",
       "1           Royal Enfield Classic 350cc  119900.0      Delhi     11000.0   \n",
       "2                  Triumph Daytona 675R  600000.0      Delhi       110.0   \n",
       "3                  TVS Apache RTR 180cc   65000.0  Bangalore     16329.0   \n",
       "4  Yamaha FZ S V 2.0 150cc-Ltd. Edition   80000.0  Bangalore     10000.0   \n",
       "\n",
       "         owner  age  power          brand  \n",
       "0  First Owner  3.0  110.0            TVS  \n",
       "1  First Owner  4.0  350.0  Royal Enfield  \n",
       "2  First Owner  8.0  675.0        Triumph  \n",
       "3  First Owner  4.0  180.0            TVS  \n",
       "4  First Owner  3.0  150.0         Yamaha  "
      ]
     },
     "execution_count": 5,
     "metadata": {},
     "output_type": "execute_result"
    }
   ],
   "source": [
    "data.head()"
   ]
  },
  {
   "cell_type": "code",
   "execution_count": 6,
   "metadata": {},
   "outputs": [],
   "source": [
    "data.drop_duplicates(inplace=True)"
   ]
  },
  {
   "cell_type": "code",
   "execution_count": 7,
   "metadata": {},
   "outputs": [],
   "source": [
    "from sklearn.preprocessing import LabelEncoder\n",
    "lable = LabelEncoder()"
   ]
  },
  {
   "cell_type": "code",
   "execution_count": 8,
   "metadata": {},
   "outputs": [],
   "source": [
    "# changing the categorical value into numerical\n",
    "cate_to_num=[\"owner\",\"brand\"]\n",
    "for i in cate_to_num:\n",
    "    data[i] = lable.fit_transform(data[i])"
   ]
  },
  {
   "cell_type": "code",
   "execution_count": 9,
   "metadata": {},
   "outputs": [
    {
     "data": {
      "text/html": [
       "<div>\n",
       "<style scoped>\n",
       "    .dataframe tbody tr th:only-of-type {\n",
       "        vertical-align: middle;\n",
       "    }\n",
       "\n",
       "    .dataframe tbody tr th {\n",
       "        vertical-align: top;\n",
       "    }\n",
       "\n",
       "    .dataframe thead th {\n",
       "        text-align: right;\n",
       "    }\n",
       "</style>\n",
       "<table border=\"1\" class=\"dataframe\">\n",
       "  <thead>\n",
       "    <tr style=\"text-align: right;\">\n",
       "      <th></th>\n",
       "      <th>bike_name</th>\n",
       "      <th>price</th>\n",
       "      <th>city</th>\n",
       "      <th>kms_driven</th>\n",
       "      <th>owner</th>\n",
       "      <th>age</th>\n",
       "      <th>power</th>\n",
       "      <th>brand</th>\n",
       "    </tr>\n",
       "  </thead>\n",
       "  <tbody>\n",
       "    <tr>\n",
       "      <th>0</th>\n",
       "      <td>TVS Star City Plus Dual Tone 110cc</td>\n",
       "      <td>35000.0</td>\n",
       "      <td>Ahmedabad</td>\n",
       "      <td>17654.0</td>\n",
       "      <td>0</td>\n",
       "      <td>3.0</td>\n",
       "      <td>110.0</td>\n",
       "      <td>19</td>\n",
       "    </tr>\n",
       "    <tr>\n",
       "      <th>1</th>\n",
       "      <td>Royal Enfield Classic 350cc</td>\n",
       "      <td>119900.0</td>\n",
       "      <td>Delhi</td>\n",
       "      <td>11000.0</td>\n",
       "      <td>0</td>\n",
       "      <td>4.0</td>\n",
       "      <td>350.0</td>\n",
       "      <td>17</td>\n",
       "    </tr>\n",
       "    <tr>\n",
       "      <th>2</th>\n",
       "      <td>Triumph Daytona 675R</td>\n",
       "      <td>600000.0</td>\n",
       "      <td>Delhi</td>\n",
       "      <td>110.0</td>\n",
       "      <td>0</td>\n",
       "      <td>8.0</td>\n",
       "      <td>675.0</td>\n",
       "      <td>20</td>\n",
       "    </tr>\n",
       "    <tr>\n",
       "      <th>3</th>\n",
       "      <td>TVS Apache RTR 180cc</td>\n",
       "      <td>65000.0</td>\n",
       "      <td>Bangalore</td>\n",
       "      <td>16329.0</td>\n",
       "      <td>0</td>\n",
       "      <td>4.0</td>\n",
       "      <td>180.0</td>\n",
       "      <td>19</td>\n",
       "    </tr>\n",
       "    <tr>\n",
       "      <th>4</th>\n",
       "      <td>Yamaha FZ S V 2.0 150cc-Ltd. Edition</td>\n",
       "      <td>80000.0</td>\n",
       "      <td>Bangalore</td>\n",
       "      <td>10000.0</td>\n",
       "      <td>0</td>\n",
       "      <td>3.0</td>\n",
       "      <td>150.0</td>\n",
       "      <td>21</td>\n",
       "    </tr>\n",
       "    <tr>\n",
       "      <th>...</th>\n",
       "      <td>...</td>\n",
       "      <td>...</td>\n",
       "      <td>...</td>\n",
       "      <td>...</td>\n",
       "      <td>...</td>\n",
       "      <td>...</td>\n",
       "      <td>...</td>\n",
       "      <td>...</td>\n",
       "    </tr>\n",
       "    <tr>\n",
       "      <th>9362</th>\n",
       "      <td>Hero Hunk Rear Disc 150cc</td>\n",
       "      <td>25000.0</td>\n",
       "      <td>Delhi</td>\n",
       "      <td>48587.0</td>\n",
       "      <td>0</td>\n",
       "      <td>8.0</td>\n",
       "      <td>150.0</td>\n",
       "      <td>5</td>\n",
       "    </tr>\n",
       "    <tr>\n",
       "      <th>9369</th>\n",
       "      <td>Bajaj Avenger 220cc</td>\n",
       "      <td>35000.0</td>\n",
       "      <td>Bangalore</td>\n",
       "      <td>60000.0</td>\n",
       "      <td>0</td>\n",
       "      <td>9.0</td>\n",
       "      <td>220.0</td>\n",
       "      <td>1</td>\n",
       "    </tr>\n",
       "    <tr>\n",
       "      <th>9370</th>\n",
       "      <td>Harley-Davidson Street 750 ABS</td>\n",
       "      <td>450000.0</td>\n",
       "      <td>Jodhpur</td>\n",
       "      <td>3430.0</td>\n",
       "      <td>0</td>\n",
       "      <td>4.0</td>\n",
       "      <td>750.0</td>\n",
       "      <td>4</td>\n",
       "    </tr>\n",
       "    <tr>\n",
       "      <th>9371</th>\n",
       "      <td>Bajaj Dominar 400 ABS</td>\n",
       "      <td>139000.0</td>\n",
       "      <td>Hyderabad</td>\n",
       "      <td>21300.0</td>\n",
       "      <td>0</td>\n",
       "      <td>4.0</td>\n",
       "      <td>400.0</td>\n",
       "      <td>1</td>\n",
       "    </tr>\n",
       "    <tr>\n",
       "      <th>9372</th>\n",
       "      <td>Bajaj Avenger Street 220</td>\n",
       "      <td>80000.0</td>\n",
       "      <td>Hyderabad</td>\n",
       "      <td>7127.0</td>\n",
       "      <td>0</td>\n",
       "      <td>5.0</td>\n",
       "      <td>220.0</td>\n",
       "      <td>1</td>\n",
       "    </tr>\n",
       "  </tbody>\n",
       "</table>\n",
       "<p>7324 rows × 8 columns</p>\n",
       "</div>"
      ],
      "text/plain": [
       "                                 bike_name     price       city  kms_driven  \\\n",
       "0       TVS Star City Plus Dual Tone 110cc   35000.0  Ahmedabad     17654.0   \n",
       "1              Royal Enfield Classic 350cc  119900.0      Delhi     11000.0   \n",
       "2                     Triumph Daytona 675R  600000.0      Delhi       110.0   \n",
       "3                     TVS Apache RTR 180cc   65000.0  Bangalore     16329.0   \n",
       "4     Yamaha FZ S V 2.0 150cc-Ltd. Edition   80000.0  Bangalore     10000.0   \n",
       "...                                    ...       ...        ...         ...   \n",
       "9362             Hero Hunk Rear Disc 150cc   25000.0      Delhi     48587.0   \n",
       "9369                   Bajaj Avenger 220cc   35000.0  Bangalore     60000.0   \n",
       "9370        Harley-Davidson Street 750 ABS  450000.0    Jodhpur      3430.0   \n",
       "9371                 Bajaj Dominar 400 ABS  139000.0  Hyderabad     21300.0   \n",
       "9372              Bajaj Avenger Street 220   80000.0  Hyderabad      7127.0   \n",
       "\n",
       "      owner  age  power  brand  \n",
       "0         0  3.0  110.0     19  \n",
       "1         0  4.0  350.0     17  \n",
       "2         0  8.0  675.0     20  \n",
       "3         0  4.0  180.0     19  \n",
       "4         0  3.0  150.0     21  \n",
       "...     ...  ...    ...    ...  \n",
       "9362      0  8.0  150.0      5  \n",
       "9369      0  9.0  220.0      1  \n",
       "9370      0  4.0  750.0      4  \n",
       "9371      0  4.0  400.0      1  \n",
       "9372      0  5.0  220.0      1  \n",
       "\n",
       "[7324 rows x 8 columns]"
      ]
     },
     "execution_count": 9,
     "metadata": {},
     "output_type": "execute_result"
    }
   ],
   "source": [
    "data"
   ]
  },
  {
   "cell_type": "code",
   "execution_count": 10,
   "metadata": {},
   "outputs": [
    {
     "data": {
      "text/plain": [
       "(7324, 8)"
      ]
     },
     "execution_count": 10,
     "metadata": {},
     "output_type": "execute_result"
    }
   ],
   "source": [
    "data.shape"
   ]
  },
  {
   "cell_type": "code",
   "execution_count": 11,
   "metadata": {},
   "outputs": [],
   "source": [
    "x = data.drop(\"price\",axis=1)\n",
    "y = data[\"price\"] "
   ]
  },
  {
   "cell_type": "code",
   "execution_count": 14,
   "metadata": {},
   "outputs": [],
   "source": [
    "# after using label encoder recyling the categorical and numerical columns\n",
    "\n",
    "categorical_columns_x = x.select_dtypes(include=\"object\").columns\n",
    "numerical_columns_x = x.select_dtypes(exclude=\"object\").columns"
   ]
  },
  {
   "cell_type": "code",
   "execution_count": 15,
   "metadata": {},
   "outputs": [
    {
     "name": "stdout",
     "output_type": "stream",
     "text": [
      "categorical_columns_x Index(['bike_name', 'city'], dtype='object')\n",
      "numerical_columns_x Index(['kms_driven', 'owner', 'age', 'power', 'brand'], dtype='object')\n"
     ]
    }
   ],
   "source": [
    "\n",
    "print(\"categorical_columns_x\",categorical_columns_x)\n",
    "print(\"numerical_columns_x\",numerical_columns_x)"
   ]
  },
  {
   "cell_type": "code",
   "execution_count": 16,
   "metadata": {},
   "outputs": [],
   "source": [
    "\n",
    "from sklearn.preprocessing import StandardScaler,OneHotEncoder\n",
    "from sklearn.impute import SimpleImputer\n",
    "from sklearn.pipeline import Pipeline\n",
    "from sklearn.compose import ColumnTransformer"
   ]
  },
  {
   "cell_type": "code",
   "execution_count": null,
   "metadata": {},
   "outputs": [],
   "source": []
  }
 ],
 "metadata": {
  "kernelspec": {
   "display_name": "Python 3",
   "language": "python",
   "name": "python3"
  },
  "language_info": {
   "codemirror_mode": {
    "name": "ipython",
    "version": 3
   },
   "file_extension": ".py",
   "mimetype": "text/x-python",
   "name": "python",
   "nbconvert_exporter": "python",
   "pygments_lexer": "ipython3",
   "version": "3.8.17"
  },
  "orig_nbformat": 4
 },
 "nbformat": 4,
 "nbformat_minor": 2
}
